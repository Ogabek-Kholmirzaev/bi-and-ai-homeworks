﻿{
 "cells": [
  {
   "cell_type": "code",
   "id": "initial_id",
   "metadata": {
    "collapsed": true,
    "ExecuteTime": {
     "end_time": "2024-12-16T14:21:40.275979Z",
     "start_time": "2024-12-16T14:21:40.269189Z"
    }
   },
   "source": [
    "dictonary = { \"one\": 1, \"two\": 2, \"three\": 3 }\n",
    "key = \"two\"\n",
    "value = \"2\"\n",
    "\n",
    "if key in dictonary:\n",
    "    print(dictonary.get(key))\n",
    "else:\n",
    "    print(\"key not in dictionary\")"
   ],
   "outputs": [
    {
     "name": "stdout",
     "output_type": "stream",
     "text": [
      "2\n"
     ]
    }
   ],
   "execution_count": 13
  },
  {
   "metadata": {
    "ExecuteTime": {
     "end_time": "2024-12-16T14:21:43.195801Z",
     "start_time": "2024-12-16T14:21:43.191044Z"
    }
   },
   "cell_type": "code",
   "source": [
    "if key in dictonary:\n",
    "    print(True)\n",
    "else:\n",
    "    print(False)"
   ],
   "id": "322eb627e4d80511",
   "outputs": [
    {
     "name": "stdout",
     "output_type": "stream",
     "text": [
      "True\n"
     ]
    }
   ],
   "execution_count": 14
  },
  {
   "metadata": {
    "ExecuteTime": {
     "end_time": "2024-12-16T14:21:46.357274Z",
     "start_time": "2024-12-16T14:21:46.349771Z"
    }
   },
   "cell_type": "code",
   "source": "print(len(dictonary.keys()))",
   "id": "fc2b248a4e9e9b68",
   "outputs": [
    {
     "name": "stdout",
     "output_type": "stream",
     "text": [
      "3\n"
     ]
    }
   ],
   "execution_count": 15
  },
  {
   "metadata": {
    "ExecuteTime": {
     "end_time": "2024-12-16T14:21:49.202343Z",
     "start_time": "2024-12-16T14:21:49.195673Z"
    }
   },
   "cell_type": "code",
   "source": "print(list(dictonary.keys()))",
   "id": "2abfab2f9232e0e6",
   "outputs": [
    {
     "name": "stdout",
     "output_type": "stream",
     "text": [
      "['one', 'two', 'three']\n"
     ]
    }
   ],
   "execution_count": 16
  },
  {
   "metadata": {
    "ExecuteTime": {
     "end_time": "2024-12-16T14:21:50.782561Z",
     "start_time": "2024-12-16T14:21:50.776776Z"
    }
   },
   "cell_type": "code",
   "source": "print(list(dictonary.values()))",
   "id": "543d69e6cbc25521",
   "outputs": [
    {
     "name": "stdout",
     "output_type": "stream",
     "text": [
      "[1, 2, 3]\n"
     ]
    }
   ],
   "execution_count": 17
  },
  {
   "metadata": {
    "ExecuteTime": {
     "end_time": "2024-12-16T14:21:52.342161Z",
     "start_time": "2024-12-16T14:21:52.335480Z"
    }
   },
   "cell_type": "code",
   "source": [
    "dict1 = { \"one\": 1, \"two\": 2, \"three\": 3 }\n",
    "dict2 = { \"three\": 3, \"four\": 4, \"five\": 5 }\n",
    "\n",
    "merged_dict = dict1.copy()\n",
    "merged_dict.update(dict2)\n",
    "\n",
    "print(merged_dict)"
   ],
   "id": "c7830df586a21a4f",
   "outputs": [
    {
     "name": "stdout",
     "output_type": "stream",
     "text": [
      "{'one': 1, 'two': 2, 'three': 3, 'four': 4, 'five': 5}\n"
     ]
    }
   ],
   "execution_count": 18
  },
  {
   "metadata": {},
   "cell_type": "code",
   "outputs": [],
   "execution_count": null,
   "source": [
    "if key in dictonary:\n",
    "    del dictonary[key]"
   ],
   "id": "9f1838c5c9a20aea"
  },
  {
   "metadata": {},
   "cell_type": "code",
   "outputs": [],
   "execution_count": null,
   "source": "new_dictionary = {}",
   "id": "3ab73f9da919cbe8"
  },
  {
   "metadata": {},
   "cell_type": "code",
   "outputs": [],
   "execution_count": null,
   "source": [
    "if len(dictonary) == 0:\n",
    "    print(\"empty dictionary\")\n",
    "else:\n",
    "    print(\"not empty\")"
   ],
   "id": "6e0485513975da95"
  },
  {
   "metadata": {
    "ExecuteTime": {
     "end_time": "2024-12-16T14:24:55.098498Z",
     "start_time": "2024-12-16T14:24:55.086479Z"
    }
   },
   "cell_type": "code",
   "source": [
    "if len(dictonary) == 0:\n",
    "    print(\"empty dictionary\")\n",
    "else:\n",
    "    for item in dictonary.items():\n",
    "        print(item)"
   ],
   "id": "12b21f9ef6184e17",
   "outputs": [
    {
     "name": "stdout",
     "output_type": "stream",
     "text": [
      "('one', 1)\n",
      "('two', 2)\n",
      "('three', 3)\n"
     ]
    }
   ],
   "execution_count": 20
  },
  {
   "metadata": {},
   "cell_type": "code",
   "outputs": [],
   "execution_count": null,
   "source": [
    "if key in dictonary:\n",
    "    dictonary[key] = value"
   ],
   "id": "d1ab9b0e12babb0"
  },
  {
   "metadata": {
    "ExecuteTime": {
     "end_time": "2024-12-16T14:26:21.874414Z",
     "start_time": "2024-12-16T14:26:21.869377Z"
    }
   },
   "cell_type": "code",
   "source": [
    "cnt = 0\n",
    "\n",
    "for dict_value in dictonary.values():\n",
    "    if value == dict_value:\n",
    "        cnt += 1\n",
    "\n",
    "print(cnt)"
   ],
   "id": "6fdafb23d512226d",
   "outputs": [],
   "execution_count": 22
  },
  {
   "metadata": {
    "ExecuteTime": {
     "end_time": "2024-12-16T14:31:59.175631Z",
     "start_time": "2024-12-16T14:31:59.157121Z"
    }
   },
   "cell_type": "code",
   "source": [
    "for k, v in enumerate(dictonary):\n",
    "    new_dictionary[v] = k\n",
    "\n",
    "print(new_dictionary)"
   ],
   "id": "c57995b57ed6a697",
   "outputs": [
    {
     "name": "stdout",
     "output_type": "stream",
     "text": [
      "{'one': 0, 'two': 1, 'three': 2}\n"
     ]
    }
   ],
   "execution_count": 29
  },
  {
   "metadata": {
    "ExecuteTime": {
     "end_time": "2024-12-16T14:31:35.744068Z",
     "start_time": "2024-12-16T14:31:35.738783Z"
    }
   },
   "cell_type": "code",
   "source": [
    "keys_list = []\n",
    "\n",
    "for k, v in enumerate(dictonary):\n",
    "    if v == value:\n",
    "        keys_list.append(k)\n",
    "\n",
    "print(keys_list)"
   ],
   "id": "7ebf15180e0556e2",
   "outputs": [],
   "execution_count": null
  },
  {
   "metadata": {
    "ExecuteTime": {
     "end_time": "2024-12-16T14:36:00.129740Z",
     "start_time": "2024-12-16T14:36:00.118384Z"
    }
   },
   "cell_type": "code",
   "source": [
    "list1 = [1, 2, 3]\n",
    "list2 = [4, 5, 6]\n",
    "\n",
    "res_dict = {}\n",
    "\n",
    "for i in range(len(list1)):\n",
    "    res_dict[list1[i]] = list2[i]\n",
    "\n",
    "print(res_dict)"
   ],
   "id": "62e402a505f31fa3",
   "outputs": [
    {
     "name": "stdout",
     "output_type": "stream",
     "text": [
      "{1: 4, 2: 5, 3: 6}\n"
     ]
    }
   ],
   "execution_count": 32
  },
  {
   "metadata": {
    "ExecuteTime": {
     "end_time": "2024-12-16T14:38:38.023485Z",
     "start_time": "2024-12-16T14:38:38.011764Z"
    }
   },
   "cell_type": "code",
   "source": [
    "dict16 = {\n",
    "    \"one\": {\n",
    "        \"one\": 1,\n",
    "        \"two\": 2,\n",
    "        \"three\": 3\n",
    "    },\n",
    "    \"two\": {}\n",
    "}\n",
    "\n",
    "for k, v in enumerate(dict16):\n",
    "    if len(v) == 0:\n",
    "        print(f\"{k} key dict empty\")\n",
    "    else:\n",
    "        print(f\"{k} key dict: {v}\")"
   ],
   "id": "37e3047d7d82e824",
   "outputs": [
    {
     "name": "stdout",
     "output_type": "stream",
     "text": [
      "0 key dict: one\n",
      "1 key dict: two\n"
     ]
    }
   ],
   "execution_count": 34
  },
  {
   "metadata": {
    "ExecuteTime": {
     "end_time": "2024-12-16T14:39:14.658914Z",
     "start_time": "2024-12-16T14:39:14.650528Z"
    }
   },
   "cell_type": "code",
   "source": "print(dict16[\"one\"][\"two\"])",
   "id": "a068c9499fcddf3c",
   "outputs": [
    {
     "name": "stdout",
     "output_type": "stream",
     "text": [
      "2\n"
     ]
    }
   ],
   "execution_count": 35
  },
  {
   "metadata": {},
   "cell_type": "code",
   "outputs": [],
   "execution_count": null,
   "source": [
    "from collections import defaultdict\n",
    "\n",
    "def create_default_dict(default_value):\n",
    "    return defaultdict(lambda: default_value)"
   ],
   "id": "2d9f4045e1c103f8"
  },
  {
   "metadata": {},
   "cell_type": "code",
   "outputs": [],
   "execution_count": null,
   "source": [
    "def count_unique_values(dictionary):\n",
    "    return len(set(dictionary.values()))"
   ],
   "id": "94a590cca6ccd1e5"
  },
  {
   "metadata": {},
   "cell_type": "code",
   "outputs": [],
   "execution_count": null,
   "source": [
    "def sort_dict_by_key(dictionary):\n",
    "    return dict(sorted(dictionary.items()))"
   ],
   "id": "f1744fc1ca057ea6"
  },
  {
   "metadata": {},
   "cell_type": "code",
   "outputs": [],
   "execution_count": null,
   "source": [
    "def sort_dict_by_value(dictionary):\n",
    "    return dict(sorted(dictionary.items(), key=lambda item: item[1]))"
   ],
   "id": "52c50859f3ebd8ea"
  },
  {
   "metadata": {},
   "cell_type": "code",
   "outputs": [],
   "execution_count": null,
   "source": [
    "def filter_by_value(dictionary, condition):\n",
    "    return {k: v for k, v in dictionary.items() if condition(v)}"
   ],
   "id": "e91eb256e9ae1960"
  },
  {
   "metadata": {},
   "cell_type": "code",
   "outputs": [],
   "execution_count": null,
   "source": [
    "def check_common_keys(dict1, dict2):\n",
    "    return bool(set(dict1.keys()) & set(dict2.keys()))"
   ],
   "id": "8fffacbd519ef2b"
  },
  {
   "metadata": {},
   "cell_type": "code",
   "outputs": [],
   "execution_count": null,
   "source": [
    "def create_dict_from_tuple(tuple_list):\n",
    "    return dict(tuple_list)"
   ],
   "id": "73f83f8174878db0"
  },
  {
   "metadata": {},
   "cell_type": "code",
   "outputs": [],
   "execution_count": null,
   "source": [
    "def get_first_key_value(dictionary):\n",
    "    if dictionary:\n",
    "        return next(iter(dictionary.items()))\n",
    "\n",
    "    return None"
   ],
   "id": "80034ebeafdf5b8"
  }
 ],
 "metadata": {
  "kernelspec": {
   "display_name": "Python 3",
   "language": "python",
   "name": "python3"
  },
  "language_info": {
   "codemirror_mode": {
    "name": "ipython",
    "version": 2
   },
   "file_extension": ".py",
   "mimetype": "text/x-python",
   "name": "python",
   "nbconvert_exporter": "python",
   "pygments_lexer": "ipython2",
   "version": "2.7.6"
  }
 },
 "nbformat": 4,
 "nbformat_minor": 5
}
